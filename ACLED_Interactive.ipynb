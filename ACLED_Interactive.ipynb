{
 "cells": [
  {
   "cell_type": "markdown",
   "metadata": {
    "colab_type": "text",
    "id": "view-in-github"
   },
   "source": [
    "<a href=\"https://colab.research.google.com/github/projectmesadata/armedconflict/blob/main/ACLED_Interactive.ipynb\" target=\"_parent\"><img src=\"https://colab.research.google.com/assets/colab-badge.svg\" alt=\"Open In Colab\"/></a>"
   ]
  },
  {
   "cell_type": "markdown",
   "metadata": {
    "id": "PAVveyN8QyDT"
   },
   "source": [
    "# Armed Conflict Location Event Data\n",
    "\n",
    "\"The Armed Conflict Location & Event Data Project (ACLED) is a disaggregated data collection, analysis, and crisis mapping project. ACLED collects the dates, actors, locations, fatalities, and types of all reported political violence and protest events across Africa, the Middle East, Latin America & the Caribbean, East Asia, South Asia, Southeast Asia, Central Asia & the Caucasus, Europe, and the United States of America. The ACLED team conducts analysis to describe, explore, and test conflict scenarios, and makes both data and analysis open for free use by the public.\"\n",
    "\n",
    "\"ACLED is a registered non-profit organization with 501(c)(3) status in the United States.\"\n",
    "\n",
    "Copied from [about ACLED](https://acleddata.com/about-acled/)\n",
    "\n",
    "[ACLED website](https://acleddata.com/#/dashboard)"
   ]
  },
  {
   "cell_type": "markdown",
   "metadata": {
    "id": "fGO0E-0VQyDm"
   },
   "source": [
    "# 0. Import Python Dependencies\n"
   ]
  },
  {
   "cell_type": "code",
   "execution_count": null,
   "metadata": {
    "cellView": "form",
    "colab": {
     "base_uri": "https://localhost:8080/"
    },
    "id": "6aixITCaQyDn",
    "outputId": "2c205f75-adb5-4549-d856-6b15f34c2d1c"
   },
   "outputs": [],
   "source": [
    "#@title\n",
    "#import libraries\n",
    "!pip install pyproj\n",
    "import requests\n",
    "from datetime import datetime as dt\n",
    "from datetime import timedelta\n",
    "import pandas as pd\n",
    "import ipywidgets as widgets\n",
    "from ipywidgets import interact, Layout\n",
    "import json\n",
    "from bokeh.plotting import figure, output_notebook, show #builds interactive graphs for python\n",
    "from bokeh.models import Legend, ColumnDataSource,HoverTool\n",
    "from bokeh.palettes import Colorblind8, Set1_9,Paired12, Category20_20, Turbo256\n",
    "palette = Colorblind8+Set1_9+Paired12+Category20_20+Turbo256\n",
    "from bokeh.transform import factor_cmap\n",
    "from bokeh.tile_providers import get_provider, Vendors\n",
    "from bokeh.models.formatters import DatetimeTickFormatter\n",
    "from pyproj import Transformer\n",
    "from google.colab import files\n",
    "import io\n",
    "tile_provider = get_provider('STAMEN_TERRAIN')\n",
    "output_notebook()\n"
   ]
  },
  {
   "cell_type": "markdown",
   "metadata": {
    "id": "byVBfyyPa_7I"
   },
   "source": [
    "# 1. Upload File\n",
    "\n",
    "Enter name of the ACLED data file you are uploading with the .csv extension (i.e. \"file.csv\") and select from your machine to upload."
   ]
  },
  {
   "cell_type": "code",
   "execution_count": null,
   "metadata": {
    "cellView": "form",
    "colab": {
     "base_uri": "https://localhost:8080/",
     "height": 67,
     "referenced_widgets": [
      "eedc23dead724cc390d18415ff1b8ef5",
      "8ed734b76827464fa293340cc476f07e",
      "55db1212b2d9471a857c398396cf5bf6",
      "7e1a8024c4ca43b2af6f25425da48258",
      "9f8ed8d9ac3d425083aae665ab690057",
      "a8cef668b79d4d008b29e79b3cabef65",
      "c6d282ce24734dc5917865de576d8be1"
     ]
    },
    "id": "42_Lux8ca_LL",
    "outputId": "599bdab2-fe91-45a6-e60c-c8f03bbff4c7"
   },
   "outputs": [],
   "source": [
    "#@title\n",
    "upload =widgets.Text(placeholder = \"Type Filename.csv\",\n",
    "        description=\"File\", \n",
    "        disabled = False)\n",
    "\n",
    "\n",
    "actor_choice = []\n",
    "def upload_file(filename):\n",
    "    return filename\n",
    "\n",
    "actor_selection = interact(upload_file, filename=upload)\n",
    "\n"
   ]
  },
  {
   "cell_type": "markdown",
   "metadata": {
    "id": "CsdhzamZdRwi"
   },
   "source": [
    "# 2. Select the file to upload\n",
    "\n",
    "You can see the file by clicking on the folder icon in the upper left. "
   ]
  },
  {
   "cell_type": "code",
   "execution_count": null,
   "metadata": {
    "cellView": "form",
    "colab": {
     "base_uri": "https://localhost:8080/",
     "height": 1000,
     "resources": {
      "http://localhost:8080/nbextensions/google.colab/files.js": {
       "data": "Ly8gQ29weXJpZ2h0IDIwMTcgR29vZ2xlIExMQwovLwovLyBMaWNlbnNlZCB1bmRlciB0aGUgQXBhY2hlIExpY2Vuc2UsIFZlcnNpb24gMi4wICh0aGUgIkxpY2Vuc2UiKTsKLy8geW91IG1heSBub3QgdXNlIHRoaXMgZmlsZSBleGNlcHQgaW4gY29tcGxpYW5jZSB3aXRoIHRoZSBMaWNlbnNlLgovLyBZb3UgbWF5IG9idGFpbiBhIGNvcHkgb2YgdGhlIExpY2Vuc2UgYXQKLy8KLy8gICAgICBodHRwOi8vd3d3LmFwYWNoZS5vcmcvbGljZW5zZXMvTElDRU5TRS0yLjAKLy8KLy8gVW5sZXNzIHJlcXVpcmVkIGJ5IGFwcGxpY2FibGUgbGF3IG9yIGFncmVlZCB0byBpbiB3cml0aW5nLCBzb2Z0d2FyZQovLyBkaXN0cmlidXRlZCB1bmRlciB0aGUgTGljZW5zZSBpcyBkaXN0cmlidXRlZCBvbiBhbiAiQVMgSVMiIEJBU0lTLAovLyBXSVRIT1VUIFdBUlJBTlRJRVMgT1IgQ09ORElUSU9OUyBPRiBBTlkgS0lORCwgZWl0aGVyIGV4cHJlc3Mgb3IgaW1wbGllZC4KLy8gU2VlIHRoZSBMaWNlbnNlIGZvciB0aGUgc3BlY2lmaWMgbGFuZ3VhZ2UgZ292ZXJuaW5nIHBlcm1pc3Npb25zIGFuZAovLyBsaW1pdGF0aW9ucyB1bmRlciB0aGUgTGljZW5zZS4KCi8qKgogKiBAZmlsZW92ZXJ2aWV3IEhlbHBlcnMgZm9yIGdvb2dsZS5jb2xhYiBQeXRob24gbW9kdWxlLgogKi8KKGZ1bmN0aW9uKHNjb3BlKSB7CmZ1bmN0aW9uIHNwYW4odGV4dCwgc3R5bGVBdHRyaWJ1dGVzID0ge30pIHsKICBjb25zdCBlbGVtZW50ID0gZG9jdW1lbnQuY3JlYXRlRWxlbWVudCgnc3BhbicpOwogIGVsZW1lbnQudGV4dENvbnRlbnQgPSB0ZXh0OwogIGZvciAoY29uc3Qga2V5IG9mIE9iamVjdC5rZXlzKHN0eWxlQXR0cmlidXRlcykpIHsKICAgIGVsZW1lbnQuc3R5bGVba2V5XSA9IHN0eWxlQXR0cmlidXRlc1trZXldOwogIH0KICByZXR1cm4gZWxlbWVudDsKfQoKLy8gTWF4IG51bWJlciBvZiBieXRlcyB3aGljaCB3aWxsIGJlIHVwbG9hZGVkIGF0IGEgdGltZS4KY29uc3QgTUFYX1BBWUxPQURfU0laRSA9IDEwMCAqIDEwMjQ7CgpmdW5jdGlvbiBfdXBsb2FkRmlsZXMoaW5wdXRJZCwgb3V0cHV0SWQpIHsKICBjb25zdCBzdGVwcyA9IHVwbG9hZEZpbGVzU3RlcChpbnB1dElkLCBvdXRwdXRJZCk7CiAgY29uc3Qgb3V0cHV0RWxlbWVudCA9IGRvY3VtZW50LmdldEVsZW1lbnRCeUlkKG91dHB1dElkKTsKICAvLyBDYWNoZSBzdGVwcyBvbiB0aGUgb3V0cHV0RWxlbWVudCB0byBtYWtlIGl0IGF2YWlsYWJsZSBmb3IgdGhlIG5leHQgY2FsbAogIC8vIHRvIHVwbG9hZEZpbGVzQ29udGludWUgZnJvbSBQeXRob24uCiAgb3V0cHV0RWxlbWVudC5zdGVwcyA9IHN0ZXBzOwoKICByZXR1cm4gX3VwbG9hZEZpbGVzQ29udGludWUob3V0cHV0SWQpOwp9CgovLyBUaGlzIGlzIHJvdWdobHkgYW4gYXN5bmMgZ2VuZXJhdG9yIChub3Qgc3VwcG9ydGVkIGluIHRoZSBicm93c2VyIHlldCksCi8vIHdoZXJlIHRoZXJlIGFyZSBtdWx0aXBsZSBhc3luY2hyb25vdXMgc3RlcHMgYW5kIHRoZSBQeXRob24gc2lkZSBpcyBnb2luZwovLyB0byBwb2xsIGZvciBjb21wbGV0aW9uIG9mIGVhY2ggc3RlcC4KLy8gVGhpcyB1c2VzIGEgUHJvbWlzZSB0byBibG9jayB0aGUgcHl0aG9uIHNpZGUgb24gY29tcGxldGlvbiBvZiBlYWNoIHN0ZXAsCi8vIHRoZW4gcGFzc2VzIHRoZSByZXN1bHQgb2YgdGhlIHByZXZpb3VzIHN0ZXAgYXMgdGhlIGlucHV0IHRvIHRoZSBuZXh0IHN0ZXAuCmZ1bmN0aW9uIF91cGxvYWRGaWxlc0NvbnRpbnVlKG91dHB1dElkKSB7CiAgY29uc3Qgb3V0cHV0RWxlbWVudCA9IGRvY3VtZW50LmdldEVsZW1lbnRCeUlkKG91dHB1dElkKTsKICBjb25zdCBzdGVwcyA9IG91dHB1dEVsZW1lbnQuc3RlcHM7CgogIGNvbnN0IG5leHQgPSBzdGVwcy5uZXh0KG91dHB1dEVsZW1lbnQubGFzdFByb21pc2VWYWx1ZSk7CiAgcmV0dXJuIFByb21pc2UucmVzb2x2ZShuZXh0LnZhbHVlLnByb21pc2UpLnRoZW4oKHZhbHVlKSA9PiB7CiAgICAvLyBDYWNoZSB0aGUgbGFzdCBwcm9taXNlIHZhbHVlIHRvIG1ha2UgaXQgYXZhaWxhYmxlIHRvIHRoZSBuZXh0CiAgICAvLyBzdGVwIG9mIHRoZSBnZW5lcmF0b3IuCiAgICBvdXRwdXRFbGVtZW50Lmxhc3RQcm9taXNlVmFsdWUgPSB2YWx1ZTsKICAgIHJldHVybiBuZXh0LnZhbHVlLnJlc3BvbnNlOwogIH0pOwp9CgovKioKICogR2VuZXJhdG9yIGZ1bmN0aW9uIHdoaWNoIGlzIGNhbGxlZCBiZXR3ZWVuIGVhY2ggYXN5bmMgc3RlcCBvZiB0aGUgdXBsb2FkCiAqIHByb2Nlc3MuCiAqIEBwYXJhbSB7c3RyaW5nfSBpbnB1dElkIEVsZW1lbnQgSUQgb2YgdGhlIGlucHV0IGZpbGUgcGlja2VyIGVsZW1lbnQuCiAqIEBwYXJhbSB7c3RyaW5nfSBvdXRwdXRJZCBFbGVtZW50IElEIG9mIHRoZSBvdXRwdXQgZGlzcGxheS4KICogQHJldHVybiB7IUl0ZXJhYmxlPCFPYmplY3Q+fSBJdGVyYWJsZSBvZiBuZXh0IHN0ZXBzLgogKi8KZnVuY3Rpb24qIHVwbG9hZEZpbGVzU3RlcChpbnB1dElkLCBvdXRwdXRJZCkgewogIGNvbnN0IGlucHV0RWxlbWVudCA9IGRvY3VtZW50LmdldEVsZW1lbnRCeUlkKGlucHV0SWQpOwogIGlucHV0RWxlbWVudC5kaXNhYmxlZCA9IGZhbHNlOwoKICBjb25zdCBvdXRwdXRFbGVtZW50ID0gZG9jdW1lbnQuZ2V0RWxlbWVudEJ5SWQob3V0cHV0SWQpOwogIG91dHB1dEVsZW1lbnQuaW5uZXJIVE1MID0gJyc7CgogIGNvbnN0IHBpY2tlZFByb21pc2UgPSBuZXcgUHJvbWlzZSgocmVzb2x2ZSkgPT4gewogICAgaW5wdXRFbGVtZW50LmFkZEV2ZW50TGlzdGVuZXIoJ2NoYW5nZScsIChlKSA9PiB7CiAgICAgIHJlc29sdmUoZS50YXJnZXQuZmlsZXMpOwogICAgfSk7CiAgfSk7CgogIGNvbnN0IGNhbmNlbCA9IGRvY3VtZW50LmNyZWF0ZUVsZW1lbnQoJ2J1dHRvbicpOwogIGlucHV0RWxlbWVudC5wYXJlbnRFbGVtZW50LmFwcGVuZENoaWxkKGNhbmNlbCk7CiAgY2FuY2VsLnRleHRDb250ZW50ID0gJ0NhbmNlbCB1cGxvYWQnOwogIGNvbnN0IGNhbmNlbFByb21pc2UgPSBuZXcgUHJvbWlzZSgocmVzb2x2ZSkgPT4gewogICAgY2FuY2VsLm9uY2xpY2sgPSAoKSA9PiB7CiAgICAgIHJlc29sdmUobnVsbCk7CiAgICB9OwogIH0pOwoKICAvLyBXYWl0IGZvciB0aGUgdXNlciB0byBwaWNrIHRoZSBmaWxlcy4KICBjb25zdCBmaWxlcyA9IHlpZWxkIHsKICAgIHByb21pc2U6IFByb21pc2UucmFjZShbcGlja2VkUHJvbWlzZSwgY2FuY2VsUHJvbWlzZV0pLAogICAgcmVzcG9uc2U6IHsKICAgICAgYWN0aW9uOiAnc3RhcnRpbmcnLAogICAgfQogIH07CgogIGNhbmNlbC5yZW1vdmUoKTsKCiAgLy8gRGlzYWJsZSB0aGUgaW5wdXQgZWxlbWVudCBzaW5jZSBmdXJ0aGVyIHBpY2tzIGFyZSBub3QgYWxsb3dlZC4KICBpbnB1dEVsZW1lbnQuZGlzYWJsZWQgPSB0cnVlOwoKICBpZiAoIWZpbGVzKSB7CiAgICByZXR1cm4gewogICAgICByZXNwb25zZTogewogICAgICAgIGFjdGlvbjogJ2NvbXBsZXRlJywKICAgICAgfQogICAgfTsKICB9CgogIGZvciAoY29uc3QgZmlsZSBvZiBmaWxlcykgewogICAgY29uc3QgbGkgPSBkb2N1bWVudC5jcmVhdGVFbGVtZW50KCdsaScpOwogICAgbGkuYXBwZW5kKHNwYW4oZmlsZS5uYW1lLCB7Zm9udFdlaWdodDogJ2JvbGQnfSkpOwogICAgbGkuYXBwZW5kKHNwYW4oCiAgICAgICAgYCgke2ZpbGUudHlwZSB8fCAnbi9hJ30pIC0gJHtmaWxlLnNpemV9IGJ5dGVzLCBgICsKICAgICAgICBgbGFzdCBtb2RpZmllZDogJHsKICAgICAgICAgICAgZmlsZS5sYXN0TW9kaWZpZWREYXRlID8gZmlsZS5sYXN0TW9kaWZpZWREYXRlLnRvTG9jYWxlRGF0ZVN0cmluZygpIDoKICAgICAgICAgICAgICAgICAgICAgICAgICAgICAgICAgICAgJ24vYSd9IC0gYCkpOwogICAgY29uc3QgcGVyY2VudCA9IHNwYW4oJzAlIGRvbmUnKTsKICAgIGxpLmFwcGVuZENoaWxkKHBlcmNlbnQpOwoKICAgIG91dHB1dEVsZW1lbnQuYXBwZW5kQ2hpbGQobGkpOwoKICAgIGNvbnN0IGZpbGVEYXRhUHJvbWlzZSA9IG5ldyBQcm9taXNlKChyZXNvbHZlKSA9PiB7CiAgICAgIGNvbnN0IHJlYWRlciA9IG5ldyBGaWxlUmVhZGVyKCk7CiAgICAgIHJlYWRlci5vbmxvYWQgPSAoZSkgPT4gewogICAgICAgIHJlc29sdmUoZS50YXJnZXQucmVzdWx0KTsKICAgICAgfTsKICAgICAgcmVhZGVyLnJlYWRBc0FycmF5QnVmZmVyKGZpbGUpOwogICAgfSk7CiAgICAvLyBXYWl0IGZvciB0aGUgZGF0YSB0byBiZSByZWFkeS4KICAgIGxldCBmaWxlRGF0YSA9IHlpZWxkIHsKICAgICAgcHJvbWlzZTogZmlsZURhdGFQcm9taXNlLAogICAgICByZXNwb25zZTogewogICAgICAgIGFjdGlvbjogJ2NvbnRpbnVlJywKICAgICAgfQogICAgfTsKCiAgICAvLyBVc2UgYSBjaHVua2VkIHNlbmRpbmcgdG8gYXZvaWQgbWVzc2FnZSBzaXplIGxpbWl0cy4gU2VlIGIvNjIxMTU2NjAuCiAgICBsZXQgcG9zaXRpb24gPSAwOwogICAgd2hpbGUgKHBvc2l0aW9uIDwgZmlsZURhdGEuYnl0ZUxlbmd0aCkgewogICAgICBjb25zdCBsZW5ndGggPSBNYXRoLm1pbihmaWxlRGF0YS5ieXRlTGVuZ3RoIC0gcG9zaXRpb24sIE1BWF9QQVlMT0FEX1NJWkUpOwogICAgICBjb25zdCBjaHVuayA9IG5ldyBVaW50OEFycmF5KGZpbGVEYXRhLCBwb3NpdGlvbiwgbGVuZ3RoKTsKICAgICAgcG9zaXRpb24gKz0gbGVuZ3RoOwoKICAgICAgY29uc3QgYmFzZTY0ID0gYnRvYShTdHJpbmcuZnJvbUNoYXJDb2RlLmFwcGx5KG51bGwsIGNodW5rKSk7CiAgICAgIHlpZWxkIHsKICAgICAgICByZXNwb25zZTogewogICAgICAgICAgYWN0aW9uOiAnYXBwZW5kJywKICAgICAgICAgIGZpbGU6IGZpbGUubmFtZSwKICAgICAgICAgIGRhdGE6IGJhc2U2NCwKICAgICAgICB9LAogICAgICB9OwogICAgICBwZXJjZW50LnRleHRDb250ZW50ID0KICAgICAgICAgIGAke01hdGgucm91bmQoKHBvc2l0aW9uIC8gZmlsZURhdGEuYnl0ZUxlbmd0aCkgKiAxMDApfSUgZG9uZWA7CiAgICB9CiAgfQoKICAvLyBBbGwgZG9uZS4KICB5aWVsZCB7CiAgICByZXNwb25zZTogewogICAgICBhY3Rpb246ICdjb21wbGV0ZScsCiAgICB9CiAgfTsKfQoKc2NvcGUuZ29vZ2xlID0gc2NvcGUuZ29vZ2xlIHx8IHt9OwpzY29wZS5nb29nbGUuY29sYWIgPSBzY29wZS5nb29nbGUuY29sYWIgfHwge307CnNjb3BlLmdvb2dsZS5jb2xhYi5fZmlsZXMgPSB7CiAgX3VwbG9hZEZpbGVzLAogIF91cGxvYWRGaWxlc0NvbnRpbnVlLAp9Owp9KShzZWxmKTsK",
       "headers": [
        [
         "content-type",
         "application/javascript"
        ]
       ],
       "ok": true,
       "status": 200,
       "status_text": ""
      }
     }
    },
    "id": "wszH_8YpcYpb",
    "outputId": "c453fe98-4a07-4a03-d170-ee7a3c286d8a"
   },
   "outputs": [],
   "source": [
    "#@title\n",
    "data_to_load = files.upload()\n",
    "df = pd.read_csv(io.BytesIO(data_to_load[upload.value]))\n",
    "df"
   ]
  },
  {
   "cell_type": "markdown",
   "metadata": {
    "id": "zMQwnfyyQyED"
   },
   "source": [
    "# 3. If desired, select a category\n",
    "\n",
    "The categories are based on the columns in the dataframe/table and are the features captured by ACLED. \n",
    "\n"
   ]
  },
  {
   "cell_type": "code",
   "execution_count": null,
   "metadata": {
    "cellView": "form",
    "colab": {
     "base_uri": "https://localhost:8080/",
     "height": 67,
     "referenced_widgets": [
      "f8e547664e08410ab42e8b30dd478dc2",
      "11a334a3f3e34ee9a4dfc79143a30059",
      "f9ba0b26edff43cabcec39e45e4c5ed3",
      "099efc15ecdc491f9821011d118e3528",
      "a42fd311e3a641ec857e9127deb05c41",
      "afec79fd04324b0c9cb30a46de4aa17c",
      "432736c2ea1142f1aa59341e7560ce5e"
     ]
    },
    "id": "BJ8b_Np3QyEE",
    "outputId": "3286fed0-7015-4538-db61-be8877026f61"
   },
   "outputs": [],
   "source": [
    "#@title\n",
    "#Now I want to put them together into one giant result\n",
    "sub_choices = sorted(list(df.columns))\n",
    "sub_choices.insert(0, \"all\")\n",
    "type_select = widgets.Dropdown(options = sub_choices,\n",
    "    description='Sub Category',\n",
    "    disabled=False)\n",
    "\n",
    "def update(sub):\n",
    "    return sub\n",
    "\n",
    "res_selection = interact(update, sub= type_select)\n"
   ]
  },
  {
   "cell_type": "markdown",
   "metadata": {
    "id": "BV9ggDMrQyEH"
   },
   "source": [
    "# 4. If desired, select a subcategory. \n",
    "\n"
   ]
  },
  {
   "cell_type": "code",
   "execution_count": null,
   "metadata": {
    "cellView": "form",
    "colab": {
     "base_uri": "https://localhost:8080/",
     "height": 251,
     "referenced_widgets": [
      "841d86849c304e56a51cd8d92265b328",
      "a4e4e74f1d514af2955df0e484077c73",
      "7df8f9852cf1470e8d140daa4939b235",
      "ca3660d7475e4a34b616edf18ef9d595",
      "a5b0a09318e942a98b8e1bda6a94b400",
      "fbe1caf16d5a4aab93e92c8a6d4e912a",
      "03b7ef5bf3844a8b946082f8ea5d6ca4"
     ]
    },
    "id": "quZNJo2tQyEJ",
    "outputId": "7aec7d36-5c74-45d0-fec2-f622aecb8f06"
   },
   "outputs": [],
   "source": [
    "#@title\n",
    "#Now I want to put them together into one giant result\n",
    "\n",
    "if type_select.value == \"all\":\n",
    "  cat_list = \"all\"\n",
    "  print(\"This step is not necessary, you have selected all.\")\n",
    "else: \n",
    "  cat_list = sorted(list(df[type_select.value].unique()))\n",
    "  cat_list.insert(0, \"all\")\n",
    "\n",
    "  sub_select = widgets.SelectMultiple(options = cat_list,\n",
    "                                      layout=Layout(width=\"50%\", height=\"180px\"),\n",
    "                                      description='Category Select',\n",
    "                                      disabled=False)\n",
    "\n",
    "  def update(cat):\n",
    "      return cat\n",
    "\n",
    "  res_selection = interact(update, cat= sub_select)\n"
   ]
  },
  {
   "cell_type": "markdown",
   "metadata": {
    "id": "TCejoVRtnypZ"
   },
   "source": [
    "# 5. Map the events - Pick Map By Category"
   ]
  },
  {
   "cell_type": "code",
   "execution_count": null,
   "metadata": {
    "cellView": "form",
    "colab": {
     "base_uri": "https://localhost:8080/",
     "height": 67,
     "referenced_widgets": [
      "ecc6b96276a0475494052c753398d018",
      "cff48ed4f20c4f249b0d49a1a2bfd4e2",
      "80dbd371cd5645e8a8764bd1a62443d6",
      "6c3b0b40f246449c8d487045d6555a36",
      "0635b721103b4a1cba33e5efcfc959ff",
      "ed07d17de9764a8cbfa2145994714427",
      "2dc611c76bf24cd5a714614c0b55482a"
     ]
    },
    "id": "kChWlDV3QyEK",
    "outputId": "4ba21449-78ef-4ff2-f2f8-04b405847942"
   },
   "outputs": [],
   "source": [
    "#@title\n",
    "#convert lat/long to web mercator\n",
    "\n",
    "df2 =pd.DataFrame()\n",
    "\n",
    "for val in sub_select.value: \n",
    "  df2 =pd.concat([df2,df[df.loc[:,type_select.value]==val]], ignore_index=False)\n",
    "\n",
    "\n",
    "transformer = Transformer.from_crs('epsg:4326','epsg:3857')\n",
    "\n",
    "def convert_loc(lat,long):\n",
    "  point = list(transformer.transform(lat,long))\n",
    "  return point\n",
    "\n",
    "points = df2.apply(lambda row:convert_loc(row[\"latitude\"], row[\"longitude\"]), axis=1)\n",
    "df2['web_lat'] = points.apply(lambda row: row[0])\n",
    "df2[\"web_lon\"] = points.apply(lambda row: row[1])\n",
    "\n",
    "#get a bounding box\n",
    "max_lat = df2.web_lat.max() \n",
    "min_lat = df2.web_lat.min()\n",
    "max_lon = df2.web_lon.max()\n",
    "min_lon = df2.web_lon.min()\n",
    "\n",
    "map_by = sorted(list(df2.columns))\n",
    "map_select = widgets.Dropdown(options = map_by,\n",
    "    description='Map By',\n",
    "    disabled=False)\n",
    "\n",
    "def update(map):\n",
    "    return map\n",
    "\n",
    "map_selection = interact(update, map= map_select)\n"
   ]
  },
  {
   "cell_type": "markdown",
   "metadata": {
    "id": "Fx0PwHUUzrMH"
   },
   "source": [
    "# 6. Build the Map"
   ]
  },
  {
   "cell_type": "code",
   "execution_count": null,
   "metadata": {
    "cellView": "form",
    "colab": {
     "base_uri": "https://localhost:8080/",
     "height": 617
    },
    "id": "occC2Lv-kFta",
    "outputId": "87241d05-6d36-4749-ac21-d0fb0e3043be"
   },
   "outputs": [],
   "source": [
    "#@title\n",
    "color = len(df[map_select.value].unique())\n",
    "types = list(df[map_select.value].unique())\n",
    "\n",
    "data2 = {\"lats\" : list(df2[\"web_lat\"]), \"lons\": list(df2[\"web_lon\"]), \"category\":list(df2[map_select.value])}\n",
    "\n",
    "plot_points = ColumnDataSource(data=data2)\n",
    "\n",
    "p = figure(x_range=(min_lat, max_lat),y_range=(min_lon, max_lon),x_axis_type=\"mercator\", y_axis_type=\"mercator\", toolbar_location = \"above\",\n",
    "           height=600, width = 1200)\n",
    "#add the map form the Bokeh map vendor in this case Stamen_Terrain --- see documentation\n",
    "p.add_tile(tile_provider)\n",
    "p.add_layout(Legend(), 'right')\n",
    "#See Palette on import\n",
    "p.scatter(x = \"lats\", y =\"lons\", source=plot_points, legend_group=\"category\", color = factor_cmap(\"category\",palette,types))\n",
    "\n",
    "show(p)"
   ]
  },
  {
   "cell_type": "markdown",
   "metadata": {
    "id": "dA8Pok8sz-mz"
   },
   "source": [
    "# 7. Plot the Map By and Month\n",
    "\n",
    "Creates a Time Series Plot of Map By selection and Month\n",
    "\n",
    "First it is necessary to conslidate the data for plotting."
   ]
  },
  {
   "cell_type": "code",
   "execution_count": null,
   "metadata": {
    "cellView": "form",
    "colab": {
     "base_uri": "https://localhost:8080/",
     "height": 481
    },
    "id": "1Dcsvx27DDD0",
    "outputId": "0ee9ccfb-430c-40e3-dec0-6fe00080da8f"
   },
   "outputs": [],
   "source": [
    "#@title\n",
    "def fix_date(date):\n",
    "  #print(date)\n",
    "  date =date.split(\"/\")\n",
    "  return date[0]+\"/\"+date[2]\n",
    "\n",
    "df2[\"short_event\"] = df2.apply(lambda row: fix_date(row[\"event_date\"]), axis=1)\n",
    "actors = list(df2['actor1'].unique())\n",
    "\n",
    "df2 = df2.groupby([map_select.value,\"short_event\"], as_index=False).agg({\"count\"})\n",
    "\n",
    "df2"
   ]
  },
  {
   "cell_type": "markdown",
   "metadata": {
    "id": "PPs5BaH8DfFu"
   },
   "source": [
    "# 8. Plot the results"
   ]
  },
  {
   "cell_type": "code",
   "execution_count": null,
   "metadata": {
    "cellView": "form",
    "colab": {
     "base_uri": "https://localhost:8080/",
     "height": 517
    },
    "id": "5SbKSNv4xxEj",
    "outputId": "10034161-6fef-44ee-e229-a079d256496a"
   },
   "outputs": [],
   "source": [
    "#@title\n",
    "event_dict={}\n",
    "for idx in range(len(actors)):\n",
    "  event_dict[actors[idx]]={\"num\":[], \"month\":[], \"color\": palette[idx]}\n",
    "\n",
    "\n",
    "for row, event in df2.iterrows(): \n",
    "    date = dt.strptime(row[1], '%m/%Y')\n",
    "    event_dict[row[0]]['month'].append(date)\n",
    "    event_dict[row[0]]['num'].append(event[\"event_date\"][\"count\"])\n",
    "    \n",
    "for k,v in event_dict.items(): \n",
    "  l1= v[\"month\"]\n",
    "  l2= v[\"num\"]\n",
    "  event_dict[k][\"month\"], event_dict[k][\"num\"]=(list(t) for t in zip(*sorted(zip(l1,l2))))    \n",
    "\n",
    " \n",
    "p = figure(plot_width=1200, plot_height=500, x_axis_type=\"datetime\")\n",
    "p.add_layout(Legend(), 'right')\n",
    "p.legend.click_policy=\"hide\"\n",
    "p.xaxis[0].formatter = DatetimeTickFormatter(months=[\"%b %Y\"], days = [\"%m/%Y\"])\n",
    "\n",
    "for k,v in event_dict.items(): \n",
    "  p.line(v[\"month\"], v[\"num\"], line_width=2.0, color=v['color'], legend_label=k)\n",
    "\n",
    "show(p)"
   ]
  }
 ],
 "metadata": {
  "colab": {
   "collapsed_sections": [],
   "include_colab_link": true,
   "name": "ACLED Interactive.ipynb",
   "provenance": []
  },
  "kernelspec": {
   "display_name": "Python 3",
   "language": "python",
   "name": "python3"
  },
  "language_info": {
   "codemirror_mode": {
    "name": "ipython",
    "version": 3
   },
   "file_extension": ".py",
   "mimetype": "text/x-python",
   "name": "python",
   "nbconvert_exporter": "python",
   "pygments_lexer": "ipython3",
   "version": "3.7.6"
  },
  "widgets": {
   "application/vnd.jupyter.widget-state+json": {
    "03b7ef5bf3844a8b946082f8ea5d6ca4": {
     "model_module": "@jupyter-widgets/base",
     "model_name": "LayoutModel",
     "state": {
      "_model_module": "@jupyter-widgets/base",
      "_model_module_version": "1.2.0",
      "_model_name": "LayoutModel",
      "_view_count": null,
      "_view_module": "@jupyter-widgets/base",
      "_view_module_version": "1.2.0",
      "_view_name": "LayoutView",
      "align_content": null,
      "align_items": null,
      "align_self": null,
      "border": null,
      "bottom": null,
      "display": null,
      "flex": null,
      "flex_flow": null,
      "grid_area": null,
      "grid_auto_columns": null,
      "grid_auto_flow": null,
      "grid_auto_rows": null,
      "grid_column": null,
      "grid_gap": null,
      "grid_row": null,
      "grid_template_areas": null,
      "grid_template_columns": null,
      "grid_template_rows": null,
      "height": null,
      "justify_content": null,
      "justify_items": null,
      "left": null,
      "margin": null,
      "max_height": null,
      "max_width": null,
      "min_height": null,
      "min_width": null,
      "object_fit": null,
      "object_position": null,
      "order": null,
      "overflow": null,
      "overflow_x": null,
      "overflow_y": null,
      "padding": null,
      "right": null,
      "top": null,
      "visibility": null,
      "width": null
     }
    },
    "0635b721103b4a1cba33e5efcfc959ff": {
     "model_module": "@jupyter-widgets/controls",
     "model_name": "DescriptionStyleModel",
     "state": {
      "_model_module": "@jupyter-widgets/controls",
      "_model_module_version": "1.5.0",
      "_model_name": "DescriptionStyleModel",
      "_view_count": null,
      "_view_module": "@jupyter-widgets/base",
      "_view_module_version": "1.2.0",
      "_view_name": "StyleView",
      "description_width": ""
     }
    },
    "099efc15ecdc491f9821011d118e3528": {
     "model_module": "@jupyter-widgets/output",
     "model_name": "OutputModel",
     "state": {
      "_dom_classes": [],
      "_model_module": "@jupyter-widgets/output",
      "_model_module_version": "1.0.0",
      "_model_name": "OutputModel",
      "_view_count": null,
      "_view_module": "@jupyter-widgets/output",
      "_view_module_version": "1.0.0",
      "_view_name": "OutputView",
      "layout": "IPY_MODEL_432736c2ea1142f1aa59341e7560ce5e",
      "msg_id": "",
      "outputs": [
       {
        "application/vnd.google.colaboratory.intrinsic+json": {
         "type": "string"
        },
        "metadata": {
         "tags": []
        },
        "output_type": "display_data",
        "text/plain": "'actor1'"
       }
      ]
     }
    },
    "11a334a3f3e34ee9a4dfc79143a30059": {
     "model_module": "@jupyter-widgets/base",
     "model_name": "LayoutModel",
     "state": {
      "_model_module": "@jupyter-widgets/base",
      "_model_module_version": "1.2.0",
      "_model_name": "LayoutModel",
      "_view_count": null,
      "_view_module": "@jupyter-widgets/base",
      "_view_module_version": "1.2.0",
      "_view_name": "LayoutView",
      "align_content": null,
      "align_items": null,
      "align_self": null,
      "border": null,
      "bottom": null,
      "display": null,
      "flex": null,
      "flex_flow": null,
      "grid_area": null,
      "grid_auto_columns": null,
      "grid_auto_flow": null,
      "grid_auto_rows": null,
      "grid_column": null,
      "grid_gap": null,
      "grid_row": null,
      "grid_template_areas": null,
      "grid_template_columns": null,
      "grid_template_rows": null,
      "height": null,
      "justify_content": null,
      "justify_items": null,
      "left": null,
      "margin": null,
      "max_height": null,
      "max_width": null,
      "min_height": null,
      "min_width": null,
      "object_fit": null,
      "object_position": null,
      "order": null,
      "overflow": null,
      "overflow_x": null,
      "overflow_y": null,
      "padding": null,
      "right": null,
      "top": null,
      "visibility": null,
      "width": null
     }
    },
    "2dc611c76bf24cd5a714614c0b55482a": {
     "model_module": "@jupyter-widgets/base",
     "model_name": "LayoutModel",
     "state": {
      "_model_module": "@jupyter-widgets/base",
      "_model_module_version": "1.2.0",
      "_model_name": "LayoutModel",
      "_view_count": null,
      "_view_module": "@jupyter-widgets/base",
      "_view_module_version": "1.2.0",
      "_view_name": "LayoutView",
      "align_content": null,
      "align_items": null,
      "align_self": null,
      "border": null,
      "bottom": null,
      "display": null,
      "flex": null,
      "flex_flow": null,
      "grid_area": null,
      "grid_auto_columns": null,
      "grid_auto_flow": null,
      "grid_auto_rows": null,
      "grid_column": null,
      "grid_gap": null,
      "grid_row": null,
      "grid_template_areas": null,
      "grid_template_columns": null,
      "grid_template_rows": null,
      "height": null,
      "justify_content": null,
      "justify_items": null,
      "left": null,
      "margin": null,
      "max_height": null,
      "max_width": null,
      "min_height": null,
      "min_width": null,
      "object_fit": null,
      "object_position": null,
      "order": null,
      "overflow": null,
      "overflow_x": null,
      "overflow_y": null,
      "padding": null,
      "right": null,
      "top": null,
      "visibility": null,
      "width": null
     }
    },
    "432736c2ea1142f1aa59341e7560ce5e": {
     "model_module": "@jupyter-widgets/base",
     "model_name": "LayoutModel",
     "state": {
      "_model_module": "@jupyter-widgets/base",
      "_model_module_version": "1.2.0",
      "_model_name": "LayoutModel",
      "_view_count": null,
      "_view_module": "@jupyter-widgets/base",
      "_view_module_version": "1.2.0",
      "_view_name": "LayoutView",
      "align_content": null,
      "align_items": null,
      "align_self": null,
      "border": null,
      "bottom": null,
      "display": null,
      "flex": null,
      "flex_flow": null,
      "grid_area": null,
      "grid_auto_columns": null,
      "grid_auto_flow": null,
      "grid_auto_rows": null,
      "grid_column": null,
      "grid_gap": null,
      "grid_row": null,
      "grid_template_areas": null,
      "grid_template_columns": null,
      "grid_template_rows": null,
      "height": null,
      "justify_content": null,
      "justify_items": null,
      "left": null,
      "margin": null,
      "max_height": null,
      "max_width": null,
      "min_height": null,
      "min_width": null,
      "object_fit": null,
      "object_position": null,
      "order": null,
      "overflow": null,
      "overflow_x": null,
      "overflow_y": null,
      "padding": null,
      "right": null,
      "top": null,
      "visibility": null,
      "width": null
     }
    },
    "55db1212b2d9471a857c398396cf5bf6": {
     "model_module": "@jupyter-widgets/controls",
     "model_name": "TextModel",
     "state": {
      "_dom_classes": [],
      "_model_module": "@jupyter-widgets/controls",
      "_model_module_version": "1.5.0",
      "_model_name": "TextModel",
      "_view_count": null,
      "_view_module": "@jupyter-widgets/controls",
      "_view_module_version": "1.5.0",
      "_view_name": "TextView",
      "continuous_update": true,
      "description": "File",
      "description_tooltip": null,
      "disabled": false,
      "layout": "IPY_MODEL_a8cef668b79d4d008b29e79b3cabef65",
      "placeholder": "Type Filename.csv",
      "style": "IPY_MODEL_9f8ed8d9ac3d425083aae665ab690057",
      "value": "ACLED_Philippines.csv"
     }
    },
    "6c3b0b40f246449c8d487045d6555a36": {
     "model_module": "@jupyter-widgets/output",
     "model_name": "OutputModel",
     "state": {
      "_dom_classes": [],
      "_model_module": "@jupyter-widgets/output",
      "_model_module_version": "1.0.0",
      "_model_name": "OutputModel",
      "_view_count": null,
      "_view_module": "@jupyter-widgets/output",
      "_view_module_version": "1.0.0",
      "_view_name": "OutputView",
      "layout": "IPY_MODEL_2dc611c76bf24cd5a714614c0b55482a",
      "msg_id": "",
      "outputs": [
       {
        "application/vnd.google.colaboratory.intrinsic+json": {
         "type": "string"
        },
        "metadata": {
         "tags": []
        },
        "output_type": "display_data",
        "text/plain": "'actor1'"
       }
      ]
     }
    },
    "7df8f9852cf1470e8d140daa4939b235": {
     "model_module": "@jupyter-widgets/controls",
     "model_name": "SelectMultipleModel",
     "state": {
      "_dom_classes": [],
      "_model_module": "@jupyter-widgets/controls",
      "_model_module_version": "1.5.0",
      "_model_name": "SelectMultipleModel",
      "_options_labels": [
       "all",
       "AKP: Ansar al-Khilafah in the Philippines",
       "ASG: Abu Sayyaf",
       "Abdulmuin Clan Militia (Philippines)",
       "Alamara",
       "Alulong Clan Militia (Philippines)",
       "Anti-Drug Vigilantes (Philippines)",
       "Aquino-Cojuangco Clan Militia (Philippines)",
       "Armed Drug Suspects (Philippines)",
       "BIFF: Bangsamoro Islamic Freedom Fighters",
       "Balibagan Communal Militia (Philippines)",
       "Balingasag Communal Militia (Philippines)",
       "Bantay Dagat",
       "Baraontong Clan Militia (Philippines)",
       "Blaan Ethnic Militia (Philippines)",
       "Botbot-Bugnay Tribal Militia (Philippines)",
       "Buisan Clan Militia (Philippines)",
       "CPP-NPA-NDF: Communist Party of the Philippines-New People's Army-National Democratic Front",
       "Civilians (Philippines)",
       "Culilang Communal Militia (Philippines)",
       "Dawlah Islamiyah",
       "Dela Mance Group",
       "Dipatuan Clan Militia (Philippines)",
       "Enterino Communal Militia (Philippines)",
       "Gaang Communal Militia (Philippines)",
       "General Santos Clan Militia (Philippines)",
       "Government of China (2012-)",
       "Government of the Philippines (2016-)",
       "Government of the Philippines (2016-) Bureau of Fire Protection",
       "Impos Clan Militia (Philippines)",
       "Iranun Ethnic Militia (Philippines)",
       "Islamic State (Philippines)",
       "Islamist Militia (Philippines)",
       "Kitango Communal Militia (Philippines)",
       "LP: Liberal Party",
       "Lakas-CMD: Lakas-Christian Muslim Democrats",
       "Lanao del Sur Communal Militia (Philippines)",
       "Langilan-Manobo Tribal Militia (Philippines)",
       "MILF: Moro Islamic Liberation Front",
       "MNLF: Moro National Liberation Front",
       "Magahat Bagani",
       "Malagap Communal Militia (Philippines)",
       "Mamasapano Clan Militia (Philippines)",
       "Matigsalog Ethnic Militia (Philippines)",
       "Maute Group",
       "Midsayap Clan Militia (Philippines)",
       "Military Forces of the Philippines (2010-2016)",
       "Military Forces of the Philippines (2010-2016) Scout Ranger",
       "Military Forces of the Philippines (2016-)",
       "Military Forces of the Philippines (2016-) Citizen Armed Force Geographical Unit",
       "Military Forces of the Philippines (2016-) Philippine Marine Corps",
       "Military Forces of the Philippines (2016-) Scout Ranger",
       "Mohammad Clan Militia (Philippines)",
       "Moro Muslim Militia (Philippines)",
       "NIPAR: New Indigenous People's Army for Reform",
       "NPA: New People's Army",
       "Nacionalista Party",
       "PDP-Laban: Philippine Democratic Party-Power of the Nation",
       "PMLP: Marxist-Leninist Party of the Philippines",
       "PPP: Palawan's Party of Change",
       "Pando Clan Militia (Philippines)",
       "Pikit Clan Militia (Philippines)",
       "Pinagpanaan Communal Militia (Philippines)",
       "Police Forces of the Philippines (2010-2016)",
       "Police Forces of the Philippines (2010-2016) Anti-Illegal Drugs Special Operations Task Force",
       "Police Forces of the Philippines (2010-2016) Philippine Drug Enforcement Agency",
       "Police Forces of the Philippines (2010-2016) Regional Intelligence Unit",
       "Police Forces of the Philippines (2016-)",
       "Police Forces of the Philippines (2016-) Anti-Illegal Drugs Special Operations Task Force",
       "Police Forces of the Philippines (2016-) Barangay Peace and Security Officer",
       "Police Forces of the Philippines (2016-) Counter Intelligence Task Force",
       "Police Forces of the Philippines (2016-) Criminal Investigation and Detection Group",
       "Police Forces of the Philippines (2016-) Highway Patrol Group",
       "Police Forces of the Philippines (2016-) Philippine Drug Enforcement Agency",
       "Police Forces of the Philippines (2016-) Prison Guards",
       "Police Forces of the Philippines (2016-) Provincial Intelligence Branch",
       "Police Forces of the Philippines (2016-) Regional Intelligence Unit",
       "Police Forces of the Philippines (2016-) Regional Police Drug Enforcement Unit",
       "Police Forces of the Philippines (2016-) Regional Public Safety Battalion",
       "Police Forces of the Philippines (2016-) Special Action Force",
       "Police Forces of the Philippines (2016-) Special Weapons and Tactics",
       "Pooc Communal Militia (Philippines)",
       "Private Security Forces (Philippines)",
       "Protesters (International)",
       "Protesters (Philippines)",
       "RPA-ABB: Revolutionary Proletarian Army-Alex Boncayao Brigade",
       "Rioters (Philippines)",
       "Sabal Clan Militia (Philippines)",
       "San Antonio Communal Militia (Philippines)",
       "San Pablo Communal Militia (Philippines)",
       "Sangbay Clan Militia (Philippines)",
       "Silongan Clan Militia (Philippines)",
       "Sultan Kudarat Clan Militia (Philippines)",
       "Talil Clan Militia (Philippines)",
       "Tulgao Tribal Militia (Philippines)",
       "UNA: United Nationalist Alliance",
       "Unidentified Armed Group (Philippines)",
       "Unidentified Clan Militia (Philippines)",
       "Unidentified Communal Militia (Philippines)",
       "Yulo Clan Militia (Philippines)"
      ],
      "_view_count": null,
      "_view_module": "@jupyter-widgets/controls",
      "_view_module_version": "1.5.0",
      "_view_name": "SelectMultipleView",
      "description": "Category Select",
      "description_tooltip": null,
      "disabled": false,
      "index": [
       2,
       38,
       55
      ],
      "layout": "IPY_MODEL_fbe1caf16d5a4aab93e92c8a6d4e912a",
      "rows": 5,
      "style": "IPY_MODEL_a5b0a09318e942a98b8e1bda6a94b400"
     }
    },
    "7e1a8024c4ca43b2af6f25425da48258": {
     "model_module": "@jupyter-widgets/output",
     "model_name": "OutputModel",
     "state": {
      "_dom_classes": [],
      "_model_module": "@jupyter-widgets/output",
      "_model_module_version": "1.0.0",
      "_model_name": "OutputModel",
      "_view_count": null,
      "_view_module": "@jupyter-widgets/output",
      "_view_module_version": "1.0.0",
      "_view_name": "OutputView",
      "layout": "IPY_MODEL_c6d282ce24734dc5917865de576d8be1",
      "msg_id": "",
      "outputs": [
       {
        "application/vnd.google.colaboratory.intrinsic+json": {
         "type": "string"
        },
        "metadata": {
         "tags": []
        },
        "output_type": "display_data",
        "text/plain": "'ACLED_Philippines.csv'"
       }
      ]
     }
    },
    "80dbd371cd5645e8a8764bd1a62443d6": {
     "model_module": "@jupyter-widgets/controls",
     "model_name": "DropdownModel",
     "state": {
      "_dom_classes": [],
      "_model_module": "@jupyter-widgets/controls",
      "_model_module_version": "1.5.0",
      "_model_name": "DropdownModel",
      "_options_labels": [
       "actor1",
       "actor2",
       "admin1",
       "admin2",
       "admin3",
       "assoc_actor_1",
       "assoc_actor_2",
       "country",
       "data_id",
       "event_date",
       "event_id_cnty",
       "event_id_no_cnty",
       "event_type",
       "fatalities",
       "geo_precision",
       "inter1",
       "inter2",
       "interaction",
       "iso",
       "iso3",
       "latitude",
       "location",
       "longitude",
       "notes",
       "region",
       "source",
       "source_scale",
       "sub_event_type",
       "time_precision",
       "timestamp",
       "web_lat",
       "web_lon",
       "year"
      ],
      "_view_count": null,
      "_view_module": "@jupyter-widgets/controls",
      "_view_module_version": "1.5.0",
      "_view_name": "DropdownView",
      "description": "Map By",
      "description_tooltip": null,
      "disabled": false,
      "index": 0,
      "layout": "IPY_MODEL_ed07d17de9764a8cbfa2145994714427",
      "style": "IPY_MODEL_0635b721103b4a1cba33e5efcfc959ff"
     }
    },
    "841d86849c304e56a51cd8d92265b328": {
     "model_module": "@jupyter-widgets/controls",
     "model_name": "VBoxModel",
     "state": {
      "_dom_classes": [
       "widget-interact"
      ],
      "_model_module": "@jupyter-widgets/controls",
      "_model_module_version": "1.5.0",
      "_model_name": "VBoxModel",
      "_view_count": null,
      "_view_module": "@jupyter-widgets/controls",
      "_view_module_version": "1.5.0",
      "_view_name": "VBoxView",
      "box_style": "",
      "children": [
       "IPY_MODEL_7df8f9852cf1470e8d140daa4939b235",
       "IPY_MODEL_ca3660d7475e4a34b616edf18ef9d595"
      ],
      "layout": "IPY_MODEL_a4e4e74f1d514af2955df0e484077c73"
     }
    },
    "8ed734b76827464fa293340cc476f07e": {
     "model_module": "@jupyter-widgets/base",
     "model_name": "LayoutModel",
     "state": {
      "_model_module": "@jupyter-widgets/base",
      "_model_module_version": "1.2.0",
      "_model_name": "LayoutModel",
      "_view_count": null,
      "_view_module": "@jupyter-widgets/base",
      "_view_module_version": "1.2.0",
      "_view_name": "LayoutView",
      "align_content": null,
      "align_items": null,
      "align_self": null,
      "border": null,
      "bottom": null,
      "display": null,
      "flex": null,
      "flex_flow": null,
      "grid_area": null,
      "grid_auto_columns": null,
      "grid_auto_flow": null,
      "grid_auto_rows": null,
      "grid_column": null,
      "grid_gap": null,
      "grid_row": null,
      "grid_template_areas": null,
      "grid_template_columns": null,
      "grid_template_rows": null,
      "height": null,
      "justify_content": null,
      "justify_items": null,
      "left": null,
      "margin": null,
      "max_height": null,
      "max_width": null,
      "min_height": null,
      "min_width": null,
      "object_fit": null,
      "object_position": null,
      "order": null,
      "overflow": null,
      "overflow_x": null,
      "overflow_y": null,
      "padding": null,
      "right": null,
      "top": null,
      "visibility": null,
      "width": null
     }
    },
    "9f8ed8d9ac3d425083aae665ab690057": {
     "model_module": "@jupyter-widgets/controls",
     "model_name": "DescriptionStyleModel",
     "state": {
      "_model_module": "@jupyter-widgets/controls",
      "_model_module_version": "1.5.0",
      "_model_name": "DescriptionStyleModel",
      "_view_count": null,
      "_view_module": "@jupyter-widgets/base",
      "_view_module_version": "1.2.0",
      "_view_name": "StyleView",
      "description_width": ""
     }
    },
    "a42fd311e3a641ec857e9127deb05c41": {
     "model_module": "@jupyter-widgets/controls",
     "model_name": "DescriptionStyleModel",
     "state": {
      "_model_module": "@jupyter-widgets/controls",
      "_model_module_version": "1.5.0",
      "_model_name": "DescriptionStyleModel",
      "_view_count": null,
      "_view_module": "@jupyter-widgets/base",
      "_view_module_version": "1.2.0",
      "_view_name": "StyleView",
      "description_width": ""
     }
    },
    "a4e4e74f1d514af2955df0e484077c73": {
     "model_module": "@jupyter-widgets/base",
     "model_name": "LayoutModel",
     "state": {
      "_model_module": "@jupyter-widgets/base",
      "_model_module_version": "1.2.0",
      "_model_name": "LayoutModel",
      "_view_count": null,
      "_view_module": "@jupyter-widgets/base",
      "_view_module_version": "1.2.0",
      "_view_name": "LayoutView",
      "align_content": null,
      "align_items": null,
      "align_self": null,
      "border": null,
      "bottom": null,
      "display": null,
      "flex": null,
      "flex_flow": null,
      "grid_area": null,
      "grid_auto_columns": null,
      "grid_auto_flow": null,
      "grid_auto_rows": null,
      "grid_column": null,
      "grid_gap": null,
      "grid_row": null,
      "grid_template_areas": null,
      "grid_template_columns": null,
      "grid_template_rows": null,
      "height": null,
      "justify_content": null,
      "justify_items": null,
      "left": null,
      "margin": null,
      "max_height": null,
      "max_width": null,
      "min_height": null,
      "min_width": null,
      "object_fit": null,
      "object_position": null,
      "order": null,
      "overflow": null,
      "overflow_x": null,
      "overflow_y": null,
      "padding": null,
      "right": null,
      "top": null,
      "visibility": null,
      "width": null
     }
    },
    "a5b0a09318e942a98b8e1bda6a94b400": {
     "model_module": "@jupyter-widgets/controls",
     "model_name": "DescriptionStyleModel",
     "state": {
      "_model_module": "@jupyter-widgets/controls",
      "_model_module_version": "1.5.0",
      "_model_name": "DescriptionStyleModel",
      "_view_count": null,
      "_view_module": "@jupyter-widgets/base",
      "_view_module_version": "1.2.0",
      "_view_name": "StyleView",
      "description_width": ""
     }
    },
    "a8cef668b79d4d008b29e79b3cabef65": {
     "model_module": "@jupyter-widgets/base",
     "model_name": "LayoutModel",
     "state": {
      "_model_module": "@jupyter-widgets/base",
      "_model_module_version": "1.2.0",
      "_model_name": "LayoutModel",
      "_view_count": null,
      "_view_module": "@jupyter-widgets/base",
      "_view_module_version": "1.2.0",
      "_view_name": "LayoutView",
      "align_content": null,
      "align_items": null,
      "align_self": null,
      "border": null,
      "bottom": null,
      "display": null,
      "flex": null,
      "flex_flow": null,
      "grid_area": null,
      "grid_auto_columns": null,
      "grid_auto_flow": null,
      "grid_auto_rows": null,
      "grid_column": null,
      "grid_gap": null,
      "grid_row": null,
      "grid_template_areas": null,
      "grid_template_columns": null,
      "grid_template_rows": null,
      "height": null,
      "justify_content": null,
      "justify_items": null,
      "left": null,
      "margin": null,
      "max_height": null,
      "max_width": null,
      "min_height": null,
      "min_width": null,
      "object_fit": null,
      "object_position": null,
      "order": null,
      "overflow": null,
      "overflow_x": null,
      "overflow_y": null,
      "padding": null,
      "right": null,
      "top": null,
      "visibility": null,
      "width": null
     }
    },
    "afec79fd04324b0c9cb30a46de4aa17c": {
     "model_module": "@jupyter-widgets/base",
     "model_name": "LayoutModel",
     "state": {
      "_model_module": "@jupyter-widgets/base",
      "_model_module_version": "1.2.0",
      "_model_name": "LayoutModel",
      "_view_count": null,
      "_view_module": "@jupyter-widgets/base",
      "_view_module_version": "1.2.0",
      "_view_name": "LayoutView",
      "align_content": null,
      "align_items": null,
      "align_self": null,
      "border": null,
      "bottom": null,
      "display": null,
      "flex": null,
      "flex_flow": null,
      "grid_area": null,
      "grid_auto_columns": null,
      "grid_auto_flow": null,
      "grid_auto_rows": null,
      "grid_column": null,
      "grid_gap": null,
      "grid_row": null,
      "grid_template_areas": null,
      "grid_template_columns": null,
      "grid_template_rows": null,
      "height": null,
      "justify_content": null,
      "justify_items": null,
      "left": null,
      "margin": null,
      "max_height": null,
      "max_width": null,
      "min_height": null,
      "min_width": null,
      "object_fit": null,
      "object_position": null,
      "order": null,
      "overflow": null,
      "overflow_x": null,
      "overflow_y": null,
      "padding": null,
      "right": null,
      "top": null,
      "visibility": null,
      "width": null
     }
    },
    "c6d282ce24734dc5917865de576d8be1": {
     "model_module": "@jupyter-widgets/base",
     "model_name": "LayoutModel",
     "state": {
      "_model_module": "@jupyter-widgets/base",
      "_model_module_version": "1.2.0",
      "_model_name": "LayoutModel",
      "_view_count": null,
      "_view_module": "@jupyter-widgets/base",
      "_view_module_version": "1.2.0",
      "_view_name": "LayoutView",
      "align_content": null,
      "align_items": null,
      "align_self": null,
      "border": null,
      "bottom": null,
      "display": null,
      "flex": null,
      "flex_flow": null,
      "grid_area": null,
      "grid_auto_columns": null,
      "grid_auto_flow": null,
      "grid_auto_rows": null,
      "grid_column": null,
      "grid_gap": null,
      "grid_row": null,
      "grid_template_areas": null,
      "grid_template_columns": null,
      "grid_template_rows": null,
      "height": null,
      "justify_content": null,
      "justify_items": null,
      "left": null,
      "margin": null,
      "max_height": null,
      "max_width": null,
      "min_height": null,
      "min_width": null,
      "object_fit": null,
      "object_position": null,
      "order": null,
      "overflow": null,
      "overflow_x": null,
      "overflow_y": null,
      "padding": null,
      "right": null,
      "top": null,
      "visibility": null,
      "width": null
     }
    },
    "ca3660d7475e4a34b616edf18ef9d595": {
     "model_module": "@jupyter-widgets/output",
     "model_name": "OutputModel",
     "state": {
      "_dom_classes": [],
      "_model_module": "@jupyter-widgets/output",
      "_model_module_version": "1.0.0",
      "_model_name": "OutputModel",
      "_view_count": null,
      "_view_module": "@jupyter-widgets/output",
      "_view_module_version": "1.0.0",
      "_view_name": "OutputView",
      "layout": "IPY_MODEL_03b7ef5bf3844a8b946082f8ea5d6ca4",
      "msg_id": "",
      "outputs": [
       {
        "metadata": {
         "tags": []
        },
        "output_type": "display_data",
        "text/plain": "('ASG: Abu Sayyaf',\n 'MILF: Moro Islamic Liberation Front',\n \"NPA: New People's Army\")"
       }
      ]
     }
    },
    "cff48ed4f20c4f249b0d49a1a2bfd4e2": {
     "model_module": "@jupyter-widgets/base",
     "model_name": "LayoutModel",
     "state": {
      "_model_module": "@jupyter-widgets/base",
      "_model_module_version": "1.2.0",
      "_model_name": "LayoutModel",
      "_view_count": null,
      "_view_module": "@jupyter-widgets/base",
      "_view_module_version": "1.2.0",
      "_view_name": "LayoutView",
      "align_content": null,
      "align_items": null,
      "align_self": null,
      "border": null,
      "bottom": null,
      "display": null,
      "flex": null,
      "flex_flow": null,
      "grid_area": null,
      "grid_auto_columns": null,
      "grid_auto_flow": null,
      "grid_auto_rows": null,
      "grid_column": null,
      "grid_gap": null,
      "grid_row": null,
      "grid_template_areas": null,
      "grid_template_columns": null,
      "grid_template_rows": null,
      "height": null,
      "justify_content": null,
      "justify_items": null,
      "left": null,
      "margin": null,
      "max_height": null,
      "max_width": null,
      "min_height": null,
      "min_width": null,
      "object_fit": null,
      "object_position": null,
      "order": null,
      "overflow": null,
      "overflow_x": null,
      "overflow_y": null,
      "padding": null,
      "right": null,
      "top": null,
      "visibility": null,
      "width": null
     }
    },
    "ecc6b96276a0475494052c753398d018": {
     "model_module": "@jupyter-widgets/controls",
     "model_name": "VBoxModel",
     "state": {
      "_dom_classes": [
       "widget-interact"
      ],
      "_model_module": "@jupyter-widgets/controls",
      "_model_module_version": "1.5.0",
      "_model_name": "VBoxModel",
      "_view_count": null,
      "_view_module": "@jupyter-widgets/controls",
      "_view_module_version": "1.5.0",
      "_view_name": "VBoxView",
      "box_style": "",
      "children": [
       "IPY_MODEL_80dbd371cd5645e8a8764bd1a62443d6",
       "IPY_MODEL_6c3b0b40f246449c8d487045d6555a36"
      ],
      "layout": "IPY_MODEL_cff48ed4f20c4f249b0d49a1a2bfd4e2"
     }
    },
    "ed07d17de9764a8cbfa2145994714427": {
     "model_module": "@jupyter-widgets/base",
     "model_name": "LayoutModel",
     "state": {
      "_model_module": "@jupyter-widgets/base",
      "_model_module_version": "1.2.0",
      "_model_name": "LayoutModel",
      "_view_count": null,
      "_view_module": "@jupyter-widgets/base",
      "_view_module_version": "1.2.0",
      "_view_name": "LayoutView",
      "align_content": null,
      "align_items": null,
      "align_self": null,
      "border": null,
      "bottom": null,
      "display": null,
      "flex": null,
      "flex_flow": null,
      "grid_area": null,
      "grid_auto_columns": null,
      "grid_auto_flow": null,
      "grid_auto_rows": null,
      "grid_column": null,
      "grid_gap": null,
      "grid_row": null,
      "grid_template_areas": null,
      "grid_template_columns": null,
      "grid_template_rows": null,
      "height": null,
      "justify_content": null,
      "justify_items": null,
      "left": null,
      "margin": null,
      "max_height": null,
      "max_width": null,
      "min_height": null,
      "min_width": null,
      "object_fit": null,
      "object_position": null,
      "order": null,
      "overflow": null,
      "overflow_x": null,
      "overflow_y": null,
      "padding": null,
      "right": null,
      "top": null,
      "visibility": null,
      "width": null
     }
    },
    "eedc23dead724cc390d18415ff1b8ef5": {
     "model_module": "@jupyter-widgets/controls",
     "model_name": "VBoxModel",
     "state": {
      "_dom_classes": [
       "widget-interact"
      ],
      "_model_module": "@jupyter-widgets/controls",
      "_model_module_version": "1.5.0",
      "_model_name": "VBoxModel",
      "_view_count": null,
      "_view_module": "@jupyter-widgets/controls",
      "_view_module_version": "1.5.0",
      "_view_name": "VBoxView",
      "box_style": "",
      "children": [
       "IPY_MODEL_55db1212b2d9471a857c398396cf5bf6",
       "IPY_MODEL_7e1a8024c4ca43b2af6f25425da48258"
      ],
      "layout": "IPY_MODEL_8ed734b76827464fa293340cc476f07e"
     }
    },
    "f8e547664e08410ab42e8b30dd478dc2": {
     "model_module": "@jupyter-widgets/controls",
     "model_name": "VBoxModel",
     "state": {
      "_dom_classes": [
       "widget-interact"
      ],
      "_model_module": "@jupyter-widgets/controls",
      "_model_module_version": "1.5.0",
      "_model_name": "VBoxModel",
      "_view_count": null,
      "_view_module": "@jupyter-widgets/controls",
      "_view_module_version": "1.5.0",
      "_view_name": "VBoxView",
      "box_style": "",
      "children": [
       "IPY_MODEL_f9ba0b26edff43cabcec39e45e4c5ed3",
       "IPY_MODEL_099efc15ecdc491f9821011d118e3528"
      ],
      "layout": "IPY_MODEL_11a334a3f3e34ee9a4dfc79143a30059"
     }
    },
    "f9ba0b26edff43cabcec39e45e4c5ed3": {
     "model_module": "@jupyter-widgets/controls",
     "model_name": "DropdownModel",
     "state": {
      "_dom_classes": [],
      "_model_module": "@jupyter-widgets/controls",
      "_model_module_version": "1.5.0",
      "_model_name": "DropdownModel",
      "_options_labels": [
       "all",
       "actor1",
       "actor2",
       "admin1",
       "admin2",
       "admin3",
       "assoc_actor_1",
       "assoc_actor_2",
       "country",
       "data_id",
       "event_date",
       "event_id_cnty",
       "event_id_no_cnty",
       "event_type",
       "fatalities",
       "geo_precision",
       "inter1",
       "inter2",
       "interaction",
       "iso",
       "iso3",
       "latitude",
       "location",
       "longitude",
       "notes",
       "region",
       "source",
       "source_scale",
       "sub_event_type",
       "time_precision",
       "timestamp",
       "year"
      ],
      "_view_count": null,
      "_view_module": "@jupyter-widgets/controls",
      "_view_module_version": "1.5.0",
      "_view_name": "DropdownView",
      "description": "Sub Category",
      "description_tooltip": null,
      "disabled": false,
      "index": 1,
      "layout": "IPY_MODEL_afec79fd04324b0c9cb30a46de4aa17c",
      "style": "IPY_MODEL_a42fd311e3a641ec857e9127deb05c41"
     }
    },
    "fbe1caf16d5a4aab93e92c8a6d4e912a": {
     "model_module": "@jupyter-widgets/base",
     "model_name": "LayoutModel",
     "state": {
      "_model_module": "@jupyter-widgets/base",
      "_model_module_version": "1.2.0",
      "_model_name": "LayoutModel",
      "_view_count": null,
      "_view_module": "@jupyter-widgets/base",
      "_view_module_version": "1.2.0",
      "_view_name": "LayoutView",
      "align_content": null,
      "align_items": null,
      "align_self": null,
      "border": null,
      "bottom": null,
      "display": null,
      "flex": null,
      "flex_flow": null,
      "grid_area": null,
      "grid_auto_columns": null,
      "grid_auto_flow": null,
      "grid_auto_rows": null,
      "grid_column": null,
      "grid_gap": null,
      "grid_row": null,
      "grid_template_areas": null,
      "grid_template_columns": null,
      "grid_template_rows": null,
      "height": "180px",
      "justify_content": null,
      "justify_items": null,
      "left": null,
      "margin": null,
      "max_height": null,
      "max_width": null,
      "min_height": null,
      "min_width": null,
      "object_fit": null,
      "object_position": null,
      "order": null,
      "overflow": null,
      "overflow_x": null,
      "overflow_y": null,
      "padding": null,
      "right": null,
      "top": null,
      "visibility": null,
      "width": "50%"
     }
    }
   }
  }
 },
 "nbformat": 4,
 "nbformat_minor": 1
}
